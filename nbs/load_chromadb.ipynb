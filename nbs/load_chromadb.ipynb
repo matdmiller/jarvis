{
 "cells": [
  {
   "cell_type": "code",
   "execution_count": null,
   "metadata": {},
   "outputs": [],
   "source": [
    "#| hide\n",
    "%load_ext autoreload\n",
    "%autoreload 2"
   ]
  },
  {
   "cell_type": "markdown",
   "metadata": {},
   "source": [
    "# load chromadb\n",
    "\n",
    "> A notebook to load chromadb for testing."
   ]
  },
  {
   "cell_type": "code",
   "execution_count": null,
   "metadata": {},
   "outputs": [],
   "source": [
    "import jarvis.secrets"
   ]
  },
  {
   "cell_type": "code",
   "execution_count": null,
   "metadata": {},
   "outputs": [],
   "source": [
    "from langchain.embeddings.openai import OpenAIEmbeddings\n",
    "from langchain.text_splitter import CharacterTextSplitter, TokenTextSplitter\n",
    "from langchain.vectorstores import Chroma\n",
    "from langchain.document_loaders import TextLoader"
   ]
  },
  {
   "cell_type": "code",
   "execution_count": null,
   "metadata": {},
   "outputs": [],
   "source": [
    "from functools import partial\n",
    "from pathlib import Path\n",
    "import os\n",
    "from tqdm.notebook import tqdm"
   ]
  },
  {
   "cell_type": "code",
   "execution_count": null,
   "metadata": {},
   "outputs": [],
   "source": [
    "import chromadb\n",
    "import chromadb.config"
   ]
  },
  {
   "cell_type": "code",
   "execution_count": null,
   "metadata": {},
   "outputs": [],
   "source": [
    "CHROMA_DB_PATH = '../.chromadb'"
   ]
  },
  {
   "cell_type": "code",
   "execution_count": null,
   "metadata": {},
   "outputs": [],
   "source": [
    "CHROMA_DB_NOTRACK_SETTING = chromadb.config.Settings(anonymized_telemetry=False, chroma_db_impl='duckdb+parquet', \n",
    "                                                     persist_directory=CHROMA_DB_PATH)\n",
    "# client = chromadb.Client(chroma.config.Settings(anonymized_telemetry=False))"
   ]
  },
  {
   "cell_type": "markdown",
   "metadata": {},
   "source": [
    "Example of adding chromadb documents to a collection in the chromadb client. Doing this in langchain is slightly different. <br>\n",
    "```python\n",
    "collection.add(\n",
    "    documents=[\"This is a document\", \"This is another document\"],\n",
    "    metadatas=[{\"source\": \"my_source\"}, {\"source\": \"my_source\"}],\n",
    "    ids=[\"id1\", \"id2\"]\n",
    ")\n",
    "```"
   ]
  },
  {
   "cell_type": "markdown",
   "metadata": {},
   "source": [
    "Example how to set the `persistence_directory` for Chroma.<br>\n",
    "Documentation Reference: https://python.langchain.com/en/latest/modules/indexes/vectorstores/examples/chroma.html <br>\n",
    "Always remember to persist after adding content! <br>\n",
    "```python\n",
    "# Embed and store the texts\n",
    "# Supplying a persist_directory will store the embeddings on disk\n",
    "persist_directory = '../.chromadb'\n",
    "embedding_function = OpenAIEmbeddings()\n",
    "db = get_chromadb_collection(collection_name='...')\n",
    "db.persist() #Always remember to persist after adding content!\n",
    "````"
   ]
  },
  {
   "cell_type": "markdown",
   "metadata": {},
   "source": [
    "```python\n",
    "loader = TextLoader('../examples/data/pg_essay_beyond_smart.txt')\n",
    "documents = loader.load()\n",
    "text_splitter = CharacterTextSplitter(chunk_size=1000, chunk_overlap=150)\n",
    "docs = text_splitter.split_documents(documents)#[:10] #limit length to 10 for this example.\n",
    "print(len(docs))\n",
    "embedding_function = OpenAIEmbeddings()\n",
    "db = get_chromadb_collection(collection_name='...')\n",
    "```"
   ]
  },
  {
   "cell_type": "markdown",
   "metadata": {},
   "source": [
    "https://python.langchain.com/en/latest/modules/chains/index_examples/chat_vector_db.html"
   ]
  },
  {
   "cell_type": "code",
   "execution_count": null,
   "metadata": {},
   "outputs": [],
   "source": [
    "get_chromadb_collection = partial(Chroma, collection_name='langchain', embedding_function=OpenAIEmbeddings(), \n",
    "                                  persist_directory=CHROMA_DB_PATH, client_settings=CHROMA_DB_NOTRACK_SETTING, \n",
    "                                  collection_metadata=None)"
   ]
  },
  {
   "cell_type": "code",
   "execution_count": null,
   "metadata": {},
   "outputs": [],
   "source": [
    "# Now we can load the persisted database from disk, and use it as normal. \n",
    "# embedding_function = OpenAIEmbeddings()\n",
    "# db_paulg = get_chromadb_collection(collection_name='paulg_essays')"
   ]
  },
  {
   "cell_type": "markdown",
   "metadata": {},
   "source": [
    "## Paul G Essay"
   ]
  },
  {
   "cell_type": "code",
   "execution_count": null,
   "metadata": {},
   "outputs": [
    {
     "name": "stderr",
     "output_type": "stream",
     "text": [
      "Using embedded DuckDB with persistence: data will be stored in: ../.chromadb\n"
     ]
    }
   ],
   "source": [
    "db_paulg = get_chromadb_collection(collection_name='paulg_essays')"
   ]
  },
  {
   "cell_type": "code",
   "execution_count": null,
   "metadata": {},
   "outputs": [
    {
     "name": "stdout",
     "output_type": "stream",
     "text": [
      "11\n"
     ]
    }
   ],
   "source": [
    "loader = TextLoader('../examples/data/pg_essay_beyond_smart.txt')\n",
    "documents = loader.load()\n",
    "text_splitter = CharacterTextSplitter(chunk_size=1000, chunk_overlap=150)\n",
    "docs = text_splitter.split_documents(documents)#[:10] #limit length to 10 for this example.\n",
    "docs2 = []\n",
    "for doc in docs:\n",
    "    doc.metadata.update({'namespace':'paulg_essays'})\n",
    "    docs2.append(doc)\n",
    "print(len(docs2))\n",
    "embeddings = OpenAIEmbeddings()"
   ]
  },
  {
   "cell_type": "code",
   "execution_count": null,
   "metadata": {},
   "outputs": [],
   "source": [
    "# db = Chroma.from_documents(docs, embeddings)\n",
    "db_paulg.add_documents(documents=docs2, collection_name='paulg_essays')\n",
    "db_paulg.persist()"
   ]
  },
  {
   "cell_type": "code",
   "execution_count": null,
   "metadata": {},
   "outputs": [
    {
     "data": {
      "text/plain": [
       "[(Document(page_content=\"I grew up thinking that being smart was the thing most to be desired. Perhaps you did too. But I bet it's not what you really want. Imagine you had a choice between being really smart but discovering nothing new, and being less smart but discovering lots of new ideas. Surely you'd take the latter. I would. The choice makes me uncomfortable, but when you see the two options laid out explicitly like that, it's obvious which is better.\\n\\nThe reason the choice makes me uncomfortable is that being smart still feels like the thing that matters, even though I know intellectually that it isn't. I spent so many years thinking it was. The circumstances of childhood are a perfect storm for fostering this illusion. Intelligence is much easier to measure than the value of new ideas, and you're constantly being judged by it. Whereas even the kids who will ultimately discover new things aren't usually discovering them yet. For kids that way inclined, intelligence is the only game in town.\", metadata={'source': '../examples/data/pg_essay_beyond_smart.txt', 'namespace': 'paulg_essays'}),\n",
       "  0.4230814576148987),\n",
       " (Document(page_content=\"I grew up thinking that being smart was the thing most to be desired. Perhaps you did too. But I bet it's not what you really want. Imagine you had a choice between being really smart but discovering nothing new, and being less smart but discovering lots of new ideas. Surely you'd take the latter. I would. The choice makes me uncomfortable, but when you see the two options laid out explicitly like that, it's obvious which is better.\\n\\nThe reason the choice makes me uncomfortable is that being smart still feels like the thing that matters, even though I know intellectually that it isn't. I spent so many years thinking it was. The circumstances of childhood are a perfect storm for fostering this illusion. Intelligence is much easier to measure than the value of new ideas, and you're constantly being judged by it. Whereas even the kids who will ultimately discover new things aren't usually discovering them yet. For kids that way inclined, intelligence is the only game in town.\", metadata={'source': '../examples/data/pg_essay_beyond_smart.txt', 'namespace': 'paulg_essays'}),\n",
       "  0.4230814576148987)]"
      ]
     },
     "execution_count": null,
     "metadata": {},
     "output_type": "execute_result"
    }
   ],
   "source": [
    "db_paulg.similarity_search_with_score('What is the most important thing?', k=2)"
   ]
  },
  {
   "cell_type": "code",
   "execution_count": null,
   "metadata": {},
   "outputs": [
    {
     "name": "stdout",
     "output_type": "stream",
     "text": [
      "got NoDatapointsException which is expected because the namespace filter did not match\n"
     ]
    }
   ],
   "source": [
    "try:\n",
    "    db_paulg.similarity_search_with_score('test', k=2, filter={'namespace':'paulg_essays2'})\n",
    "except chromadb.errors.NoDatapointsException:\n",
    "    print('got NoDatapointsException which is expected because the namespace filter did not match')"
   ]
  },
  {
   "cell_type": "code",
   "execution_count": null,
   "metadata": {},
   "outputs": [
    {
     "name": "stderr",
     "output_type": "stream",
     "text": [
      "Using embedded DuckDB with persistence: data will be stored in: ../.chromadb\n"
     ]
    }
   ],
   "source": [
    "db_paulg2 = get_chromadb_collection(collection_name='paulg_essays2')"
   ]
  },
  {
   "cell_type": "code",
   "execution_count": null,
   "metadata": {},
   "outputs": [
    {
     "name": "stdout",
     "output_type": "stream",
     "text": [
      "got NoIndexException which is expected because the collection_name \"paulg_essays2\" does not exist.\n"
     ]
    }
   ],
   "source": [
    "try:\n",
    "    db_paulg2.similarity_search_with_score('test', k=2)\n",
    "except chromadb.errors.NoIndexException:\n",
    "    print('got NoIndexException which is expected because the collection_name \"paulg_essays2\" does not exist.')"
   ]
  },
  {
   "cell_type": "code",
   "execution_count": null,
   "metadata": {},
   "outputs": [],
   "source": [
    "# db.delete_collection()"
   ]
  },
  {
   "cell_type": "markdown",
   "metadata": {},
   "source": [
    "## Load KWA data"
   ]
  },
  {
   "cell_type": "code",
   "execution_count": null,
   "metadata": {},
   "outputs": [
    {
     "name": "stderr",
     "output_type": "stream",
     "text": [
      "Using embedded DuckDB with persistence: data will be stored in: ../.chromadb\n"
     ]
    }
   ],
   "source": [
    "db_kwa = get_chromadb_collection(collection_name='kwa')"
   ]
  },
  {
   "cell_type": "code",
   "execution_count": null,
   "metadata": {},
   "outputs": [
    {
     "data": {
      "application/vnd.jupyter.widget-view+json": {
       "model_id": "43bc001547fb49c0a4f3fb4e8ea55773",
       "version_major": 2,
       "version_minor": 0
      },
      "text/plain": [
       "0it [00:00, ?it/s]"
      ]
     },
     "metadata": {},
     "output_type": "display_data"
    }
   ],
   "source": [
    "# text_splitter = CharacterTextSplitter(chunk_size=1000, chunk_overlap=150)\n",
    "splitter = TokenTextSplitter(chunk_size=500, chunk_overlap=100)\n",
    "all_documents = []\n",
    "for filepath in tqdm(Path(os.environ[\"KWA_PATH\"]).iterdir()):\n",
    "    if filepath.is_file() and filepath.suffix == '.txt':\n",
    "        loader = TextLoader(str(filepath))\n",
    "        document = loader.load()\n",
    "        split_document_chunks = splitter.split_documents(document)\n",
    "        all_documents += split_document_chunks"
   ]
  },
  {
   "cell_type": "code",
   "execution_count": null,
   "metadata": {},
   "outputs": [
    {
     "data": {
      "text/plain": [
       "(638, 2509)"
      ]
     },
     "execution_count": null,
     "metadata": {},
     "output_type": "execute_result"
    }
   ],
   "source": [
    "len(all_documents), len(split_document_chunks[0].page_content)"
   ]
  },
  {
   "cell_type": "code",
   "execution_count": null,
   "metadata": {},
   "outputs": [],
   "source": [
    "# for doc in all_documents:\n",
    "#     print(doc.metadata)"
   ]
  },
  {
   "cell_type": "code",
   "execution_count": null,
   "metadata": {},
   "outputs": [],
   "source": [
    "db_kwa.add_documents(documents=all_documents)\n",
    "db_kwa.persist()"
   ]
  },
  {
   "cell_type": "code",
   "execution_count": null,
   "metadata": {},
   "outputs": [
    {
     "data": {
      "text/plain": [
       "[True, True, True, True]"
      ]
     },
     "execution_count": null,
     "metadata": {},
     "output_type": "execute_result"
    }
   ],
   "source": [
    "[('fish' in o.page_content.lower()) for o in db_kwa.similarity_search('What was the name of the project trying to save fish?')]"
   ]
  },
  {
   "cell_type": "code",
   "execution_count": null,
   "metadata": {},
   "outputs": [],
   "source": []
  }
 ],
 "metadata": {
  "kernelspec": {
   "display_name": "python3",
   "language": "python",
   "name": "python3"
  }
 },
 "nbformat": 4,
 "nbformat_minor": 4
}
