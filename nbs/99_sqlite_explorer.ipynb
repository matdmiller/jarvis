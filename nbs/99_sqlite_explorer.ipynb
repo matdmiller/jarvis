{
 "cells": [
  {
   "cell_type": "code",
   "execution_count": null,
   "metadata": {},
   "outputs": [],
   "source": [
    "#| hide\n",
    "%load_ext autoreload\n",
    "%autoreload 2"
   ]
  },
  {
   "cell_type": "markdown",
   "metadata": {},
   "source": [
    "# SQLite Explorer\n",
    "\n",
    "> Explore SQLite databases including the llm cache."
   ]
  },
  {
   "cell_type": "markdown",
   "metadata": {},
   "source": [
    "## Install"
   ]
  },
  {
   "cell_type": "code",
   "execution_count": null,
   "metadata": {},
   "outputs": [],
   "source": [
    "#|eval: false\n",
    "import sqlite3"
   ]
  },
  {
   "cell_type": "markdown",
   "metadata": {},
   "source": [
    "- Collect text\n",
    "- Scrape text\n",
    "- Clean text\n",
    "- Split text\n",
    "- Embed text\n",
    "- Query text\n",
    "- Inject queried text into prompt\n",
    "- "
   ]
  },
  {
   "cell_type": "code",
   "execution_count": null,
   "metadata": {},
   "outputs": [
    {
     "name": "stdout",
     "output_type": "stream",
     "text": [
      "full_llm_cache\n"
     ]
    }
   ],
   "source": [
    "#|eval: false\n",
    "# connect to the database\n",
    "conn = sqlite3.connect('../.langchain.db')\n",
    "# get a cursor object\n",
    "cursor = conn.cursor()\n",
    "# execute the SQL query\n",
    "cursor.execute(\"SELECT name FROM sqlite_master WHERE type='table';\")\n",
    "# fetch all the results\n",
    "results = cursor.fetchall()\n",
    "# print the table names\n",
    "for table in results:\n",
    "    print(table[0])"
   ]
  },
  {
   "cell_type": "code",
   "execution_count": null,
   "metadata": {},
   "outputs": [],
   "source": [
    "#|eval: false\n",
    "cursor.execute(\"SELECT * FROM full_llm_cache;\")\n",
    "# fetch all the results\n",
    "results = cursor.fetchall()\n",
    "# print the table names\n",
    "for table in results:\n",
    "    print(table[0])"
   ]
  },
  {
   "cell_type": "code",
   "execution_count": null,
   "metadata": {},
   "outputs": [],
   "source": []
  }
 ],
 "metadata": {
  "kernelspec": {
   "display_name": "python3",
   "language": "python",
   "name": "python3"
  }
 },
 "nbformat": 4,
 "nbformat_minor": 4
}
